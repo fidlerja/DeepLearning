{
  "nbformat": 4,
  "nbformat_minor": 0,
  "metadata": {
    "accelerator": "GPU",
    "colab": {
      "name": "lab2.ipynb",
      "provenance": [],
      "collapsed_sections": []
    },
    "kernelspec": {
      "name": "python3",
      "display_name": "Python 3"
    },
    "language_info": {
      "codemirror_mode": {
        "name": "ipython",
        "version": 3
      },
      "file_extension": ".py",
      "mimetype": "text/x-python",
      "name": "python",
      "nbconvert_exporter": "python",
      "pygments_lexer": "ipython3",
      "version": "3.7.3"
    },
    "pycharm": {
      "stem_cell": {
        "cell_type": "raw",
        "metadata": {
          "collapsed": false
        },
        "source": []
      }
    }
  },
  "cells": [
    {
      "cell_type": "markdown",
      "metadata": {
        "colab_type": "text",
        "id": "ep2DPT3H32s9"
      },
      "source": [
        "<a href=\"https://colab.research.google.com/github/wingated/cs474_labs_f2019/blob/master/DL_Lab2.ipynb\" target=\"_parent\"><img src=\"https://colab.research.google.com/assets/colab-badge.svg\" alt=\"Open In Colab\"/></a>"
      ]
    },
    {
      "cell_type": "markdown",
      "metadata": {
        "colab_type": "text",
        "id": "view-in-github"
      },
      "source": [
        "# Lab 2: Intro to PyTorch\n",
        "\n",
        "## Deliverable\n",
        "\n",
        "For this lab, you will submit an ipython notebook via learningsuite.\n",
        "This lab will be mostly boilerplate code, but you will be required to implement a few extras.\n",
        "\n",
        "**NOTE: you almost certainly will not understand most of what's going on in this lab!\n",
        "That's ok - the point is just to get you going with pytorch.\n",
        "We'll be working on developing a deeper understanding of every part of this code\n",
        "over the course of the next two weeks.**\n",
        "\n",
        "A major goal of this lab is to help you become conversant in working through pytorch\n",
        "tutorials and documentation.\n",
        "So, you should feel free to google whatever you want and need!\n",
        "\n",
        "This notebook will have three parts:\n",
        "\n",
        "* Part 1: Your notebook should contain the boilerplate code. See below.\n",
        "\n",
        "* Part 2: Your notebook should extend the boilerplate code by adding a testing loop.\n",
        "\n",
        "* Part 3: Your notebook should extend the boilerplate code by adding a visualization of test/training performance over time.\n",
        "\n",
        "The resulting image could, for example, look like this:\n",
        "![](http://liftothers.org/dokuwiki/lib/exe/fetch.php?cache=&w=900&h=608&tok=3092fe&media=cs501r_f2018:lab2.png)\n",
        "See the assigned readings for pointers to documentation on pytorch.\n",
        "___\n",
        "\n",
        "### Grading standards:\n",
        "Your notebook will be graded on the following:\n",
        "\n",
        "* 50% Successfully followed lab video and typed in code\n",
        "* 20% Modified code to include a test/train split\n",
        "* 20% Modified code to include a visualization of train/test losses\n",
        "* 10% Tidy and legible figures, including labeled axes where appropriate\n",
        "___\n",
        "\n",
        "### Description\n",
        "Throughout this class, we will be using pytorch to implement our deep neural networks. \n",
        "Pytorch is a deep learning framework that handles the low-level details of \n",
        "GPU integration and automatic differentiation.\n",
        "\n",
        "The goal of this lab is to help you become familiar with pytorch. \n",
        "The three parts of the lab are outlined above.\n",
        "\n",
        "For part 1, you should watch the video below, and type in the code as it is explained to you.\n",
        "\n",
        "A more detailed outline of Part 1 is below.\n",
        "\n",
        "For part 2, you must add a validation (or testing) loop using the \n",
        "FashionMNIST dataset with train=False\n",
        "\n",
        "For part 3, you must plot the loss values.\n",
        "\n",
        "Optional: Demonstrate overfitting on the training data.\n",
        "\n",
        "The easiest way to do this is to limit the size of your training dataset \n",
        "so that it only returns a single batch (ie len(dataloader) == batch_size, \n",
        "and train for multiple epochs. For example,\n",
        "I set my batch size to 42, and augmented my dataloader to produce only 42 \n",
        "unique items by overwriting the len function to return 42. \n",
        "In my training loop, I performed a validation every epoch which basically corresponded \n",
        "to a validation every step.\n",
        "\n",
        "In practice, you will normally compute your validation loss every n steps, \n",
        "rather than at the end of every epoch. This is because some epochs can take hours, \n",
        "or even days and you don’t often want to wait that long to see your results.\n",
        "\n",
        "Testing your algorithm by using a single batch and training until overfitting \n",
        "is a great way of making sure that your model and optimizer are working the way they should!\n",
        "\n",
        "___\n",
        "\n",
        "### Part 0\n",
        "Watch Tutorial Video\n",
        "\n",
        "[https://youtu.be/0P-YctShbwc](https://youtu.be/0P-YctShbwc)\n",
        "\n",
        "**TODO:**\n",
        "\n",
        "**DONE:**\n",
        "* Watch video\n",
        "\n",
        "___\n",
        "\n",
        "### Part 1\n",
        "Your notebook should contain the boilerplate code. See below.\n",
        "\n",
        "**TODO:**\n",
        "\n",
        "\n",
        "**DONE:**\n",
        "* Replicate boilerplate from the video\n",
        "\n",
        "___\n",
        "\n",
        "### Part 2\n",
        "Your notebook should extend the boilerplate code by adding a testing loop.\n",
        "\n",
        "**TODO:**\n",
        "\n",
        "* Add a testing (validation) loop\n",
        "\n",
        "**DONE:**"
      ]
    },
    {
      "cell_type": "code",
      "metadata": {
        "colab_type": "code",
        "id": "QClXc9i7VRyA",
        "pycharm": {
          "is_executing": false
        },
        "colab": {
          "base_uri": "https://localhost:8080/",
          "height": 151
        },
        "outputId": "e3cdb026-14d8-46a3-8f4b-25472a930685"
      },
      "source": [
        "!pip3 install torch \n",
        "!pip3 install torchvision\n",
        "!pip3 install tqdm"
      ],
      "execution_count": 1,
      "outputs": [
        {
          "output_type": "stream",
          "text": [
            "Requirement already satisfied: torch in /usr/local/lib/python3.6/dist-packages (1.3.1)\n",
            "Requirement already satisfied: numpy in /usr/local/lib/python3.6/dist-packages (from torch) (1.17.5)\n",
            "Requirement already satisfied: torchvision in /usr/local/lib/python3.6/dist-packages (0.4.2)\n",
            "Requirement already satisfied: pillow>=4.1.1 in /usr/local/lib/python3.6/dist-packages (from torchvision) (6.2.2)\n",
            "Requirement already satisfied: six in /usr/local/lib/python3.6/dist-packages (from torchvision) (1.12.0)\n",
            "Requirement already satisfied: torch==1.3.1 in /usr/local/lib/python3.6/dist-packages (from torchvision) (1.3.1)\n",
            "Requirement already satisfied: numpy in /usr/local/lib/python3.6/dist-packages (from torchvision) (1.17.5)\n",
            "Requirement already satisfied: tqdm in /usr/local/lib/python3.6/dist-packages (4.28.1)\n"
          ],
          "name": "stdout"
        }
      ]
    },
    {
      "cell_type": "code",
      "metadata": {
        "colab_type": "code",
        "id": "OU80yuvqVXwk",
        "pycharm": {
          "is_executing": false
        },
        "colab": {
          "base_uri": "https://localhost:8080/",
          "height": 1000
        },
        "outputId": "46e4979d-696c-474a-aae4-454b8c3b5ce8"
      },
      "source": [
        "import torch\n",
        "import torch.nn as nn\n",
        "import torch.nn.functional as F\n",
        "import torch.optim as optim\n",
        "from torch.utils.data import Dataset, DataLoader\n",
        "import numpy as np\n",
        "import matplotlib.pyplot as plt\n",
        "from torchvision import transforms, utils, datasets\n",
        "from tqdm import tqdm\n",
        " \n",
        "assert torch.cuda.is_available() # You need to request a GPU from Runtime > Change Runtime Type\n",
        "\n",
        "# Write the boilerplate code from the video here\n",
        "\n",
        "# Extend the torch.Module class to create your own neural network\n",
        "class LinearNetwork(nn.Module):\n",
        "    def __init__(self, dataset):\n",
        "        super(LinearNetwork, self).__init__()\n",
        "        x,y = dataset[0]\n",
        "        c,h,w = x.size()\n",
        "        out = 42 #y.size(0)\n",
        "        \n",
        "        self.net = nn.Sequential(nn.Linear(c*h*w,out))\n",
        "\n",
        "    def forward(self, x):\n",
        "        n,c,h,w = x.size()\n",
        "        flattened = x.view(n,c*h*w)\n",
        "        return self.net(flattened)\n",
        "\n",
        "# Create a dataset class that extends the torch.utils.data Dataset class here\n",
        "class FashionMNISTProcessedDataset(Dataset):\n",
        "    def __init__(self,root, train=True):\n",
        "        self.data = datasets.FashionMNIST(root, \n",
        "                                          train=train,\n",
        "                                          transform=transforms.ToTensor(), \n",
        "                                          download=True)\n",
        "    \n",
        "    def __getitem__(self,i):\n",
        "        x,y = self.data[i]\n",
        "        return x, y\n",
        "    \n",
        "    def __len__(self):\n",
        "        return len(self.data)\n",
        "\n",
        "# Instantiate the train and validation sets\n",
        "train_dataset = FashionMNISTProcessedDataset('/tmp/fashionmnist', train=True)\n",
        "validation_dataset = FashionMNISTProcessedDataset('/tmp/fashionmnist', train=False)\n",
        "\n",
        "# Instantiate your data loaders\n",
        "train_loader = DataLoader(train_dataset,\n",
        "                          batch_size=42,\n",
        "                          pin_memory=True)\n",
        "\n",
        "validation_loader = DataLoader(validation_dataset,\n",
        "                          batch_size=42,\n",
        "                          pin_memory=True)\n",
        "\n",
        "# Instantiate your model and loss and optimizer functions\n",
        "model = LinearNetwork(train_dataset)\n",
        "model = model.cuda()\n",
        "objective = torch.nn.CrossEntropyLoss()\n",
        "optimizer = optim.SGD(model.parameters(), lr=1e-4)\n",
        "\n",
        "# Run your training / validation loops\n",
        "train_losses = []\n",
        "validation_losses = []\n",
        "\n",
        "for epoch in range(100):\n",
        "    loop = tqdm(total=len(train_loader), position=0)\n",
        "    validated = False\n",
        "    for x, y_truth in train_loader:\n",
        "        x, y_truth = x.cuda(async=True), y_truth.cuda(async=True)\n",
        "        \n",
        "        optimizer.zero_grad()\n",
        "        \n",
        "        y_hat = model(x)\n",
        "        loss = objective(y_hat, y_truth)\n",
        "\n",
        "        train_losses.append(loss)\n",
        "\n",
        "        loop.set_description('loss:{:.4f}'.format(loss.item()))\n",
        "        loop.update(1)\n",
        "        \n",
        "        loss.backward()\n",
        "        \n",
        "        optimizer.step()\n",
        "\n",
        "        if not validated:\n",
        "            for x, y_truth in list(validation_loader)[:10]:\n",
        "                x, y_truth = x.cuda(async=True), y_truth.cuda(async=True)\n",
        "                \n",
        "                y_hat = model(x)\n",
        "                loss = objective(y_hat, y_truth)\n",
        "                validation_losses += [loss] * (len(train_loader)//10)\n",
        "            validated = True\n",
        "    loop.close()\n"
      ],
      "execution_count": 21,
      "outputs": [
        {
          "output_type": "stream",
          "text": [
            "loss:2.7033: 100%|██████████| 1429/1429 [00:09<00:00, 151.81it/s]\n",
            "loss:2.2276: 100%|██████████| 1429/1429 [00:09<00:00, 155.59it/s]\n",
            "loss:1.9557: 100%|██████████| 1429/1429 [00:09<00:00, 153.53it/s]\n",
            "loss:1.7674: 100%|██████████| 1429/1429 [00:09<00:00, 156.81it/s]\n",
            "loss:1.6272: 100%|██████████| 1429/1429 [00:08<00:00, 179.27it/s]\n",
            "loss:1.5189: 100%|██████████| 1429/1429 [00:08<00:00, 159.44it/s]\n",
            "loss:1.4329: 100%|██████████| 1429/1429 [00:09<00:00, 157.70it/s]\n",
            "loss:1.3630: 100%|██████████| 1429/1429 [00:08<00:00, 160.32it/s]\n",
            "loss:1.3051: 100%|██████████| 1429/1429 [00:09<00:00, 158.06it/s]\n",
            "loss:1.2563: 100%|██████████| 1429/1429 [00:09<00:00, 152.47it/s]\n",
            "loss:1.2145: 100%|██████████| 1429/1429 [00:08<00:00, 160.61it/s]\n",
            "loss:1.1784: 100%|██████████| 1429/1429 [00:09<00:00, 153.09it/s]\n",
            "loss:1.1468: 100%|██████████| 1429/1429 [00:09<00:00, 154.47it/s]\n",
            "loss:1.1188: 100%|██████████| 1429/1429 [00:08<00:00, 159.00it/s]\n",
            "loss:1.0939: 100%|██████████| 1429/1429 [00:09<00:00, 156.41it/s]\n",
            "loss:1.0715: 100%|██████████| 1429/1429 [00:09<00:00, 155.07it/s]\n",
            "loss:1.0512: 100%|██████████| 1429/1429 [00:09<00:00, 152.34it/s]\n",
            "loss:1.0328: 100%|██████████| 1429/1429 [00:09<00:00, 153.67it/s]\n",
            "loss:1.0159: 100%|██████████| 1429/1429 [00:09<00:00, 154.90it/s]\n",
            "loss:1.0004: 100%|██████████| 1429/1429 [00:09<00:00, 155.45it/s]\n",
            "loss:0.9861: 100%|██████████| 1429/1429 [00:09<00:00, 155.92it/s]\n",
            "loss:0.9728: 100%|██████████| 1429/1429 [00:09<00:00, 155.74it/s]\n",
            "loss:0.9604: 100%|██████████| 1429/1429 [00:09<00:00, 174.31it/s]\n",
            "loss:0.9489: 100%|██████████| 1429/1429 [00:09<00:00, 154.11it/s]\n",
            "loss:0.9381: 100%|██████████| 1429/1429 [00:09<00:00, 156.64it/s]\n",
            "loss:0.9279: 100%|██████████| 1429/1429 [00:09<00:00, 152.76it/s]\n",
            "loss:0.9183: 100%|██████████| 1429/1429 [00:09<00:00, 157.76it/s]\n",
            "loss:0.9093: 100%|██████████| 1429/1429 [00:08<00:00, 159.45it/s]\n",
            "loss:0.9007: 100%|██████████| 1429/1429 [00:09<00:00, 157.86it/s]\n",
            "loss:0.8926: 100%|██████████| 1429/1429 [00:09<00:00, 158.23it/s]\n",
            "loss:0.8849: 100%|██████████| 1429/1429 [00:08<00:00, 161.60it/s]\n",
            "loss:0.8775: 100%|██████████| 1429/1429 [00:09<00:00, 158.17it/s]\n",
            "loss:0.8705: 100%|██████████| 1429/1429 [00:08<00:00, 159.04it/s]\n",
            "loss:0.8638: 100%|██████████| 1429/1429 [00:08<00:00, 160.89it/s]\n",
            "loss:0.8574: 100%|██████████| 1429/1429 [00:08<00:00, 161.65it/s]\n",
            "loss:0.8512: 100%|██████████| 1429/1429 [00:09<00:00, 151.14it/s]\n",
            "loss:0.8453: 100%|██████████| 1429/1429 [00:08<00:00, 159.16it/s]\n",
            "loss:0.8396: 100%|██████████| 1429/1429 [00:08<00:00, 162.92it/s]\n",
            "loss:0.8342: 100%|██████████| 1429/1429 [00:09<00:00, 155.19it/s]\n",
            "loss:0.8290: 100%|██████████| 1429/1429 [00:09<00:00, 158.66it/s]\n",
            "loss:0.8239: 100%|██████████| 1429/1429 [00:08<00:00, 160.85it/s]\n",
            "loss:0.8190: 100%|██████████| 1429/1429 [00:08<00:00, 159.05it/s]\n",
            "loss:0.8143: 100%|██████████| 1429/1429 [00:09<00:00, 154.20it/s]\n",
            "loss:0.8098: 100%|██████████| 1429/1429 [00:08<00:00, 158.78it/s]\n",
            "loss:0.8054: 100%|██████████| 1429/1429 [00:09<00:00, 154.99it/s]\n",
            "loss:0.8011: 100%|██████████| 1429/1429 [00:09<00:00, 158.42it/s]\n",
            "loss:0.7970: 100%|██████████| 1429/1429 [00:08<00:00, 159.44it/s]\n",
            "loss:0.7930: 100%|██████████| 1429/1429 [00:09<00:00, 158.65it/s]\n",
            "loss:0.7891: 100%|██████████| 1429/1429 [00:08<00:00, 160.06it/s]\n",
            "loss:0.7853: 100%|██████████| 1429/1429 [00:09<00:00, 157.17it/s]\n",
            "loss:0.7817: 100%|██████████| 1429/1429 [00:08<00:00, 177.20it/s]\n",
            "loss:0.7781: 100%|██████████| 1429/1429 [00:09<00:00, 155.18it/s]\n",
            "loss:0.7747: 100%|██████████| 1429/1429 [00:09<00:00, 156.64it/s]\n",
            "loss:0.7713: 100%|██████████| 1429/1429 [00:09<00:00, 158.34it/s]\n",
            "loss:0.7681: 100%|██████████| 1429/1429 [00:09<00:00, 157.59it/s]\n",
            "loss:0.7649: 100%|██████████| 1429/1429 [00:09<00:00, 154.64it/s]\n",
            "loss:0.7618: 100%|██████████| 1429/1429 [00:09<00:00, 157.24it/s]\n",
            "loss:0.7588: 100%|██████████| 1429/1429 [00:09<00:00, 157.53it/s]\n",
            "loss:0.7558: 100%|██████████| 1429/1429 [00:09<00:00, 157.97it/s]\n",
            "loss:0.7530: 100%|██████████| 1429/1429 [00:09<00:00, 155.95it/s]\n",
            "loss:0.7502: 100%|██████████| 1429/1429 [00:08<00:00, 161.31it/s]\n",
            "loss:0.7474: 100%|██████████| 1429/1429 [00:09<00:00, 157.04it/s]\n",
            "loss:0.7448: 100%|██████████| 1429/1429 [00:09<00:00, 167.49it/s]\n",
            "loss:0.7422: 100%|██████████| 1429/1429 [00:08<00:00, 159.68it/s]\n",
            "loss:0.7396: 100%|██████████| 1429/1429 [00:08<00:00, 159.01it/s]\n",
            "loss:0.7371: 100%|██████████| 1429/1429 [00:09<00:00, 152.75it/s]\n",
            "loss:0.7347: 100%|██████████| 1429/1429 [00:09<00:00, 158.56it/s]\n",
            "loss:0.7323: 100%|██████████| 1429/1429 [00:08<00:00, 160.28it/s]\n",
            "loss:0.7300: 100%|██████████| 1429/1429 [00:09<00:00, 155.62it/s]\n",
            "loss:0.7277: 100%|██████████| 1429/1429 [00:08<00:00, 159.75it/s]\n",
            "loss:0.7255: 100%|██████████| 1429/1429 [00:08<00:00, 161.95it/s]\n",
            "loss:0.7233: 100%|██████████| 1429/1429 [00:09<00:00, 151.99it/s]\n",
            "loss:0.7212: 100%|██████████| 1429/1429 [00:09<00:00, 155.27it/s]\n",
            "loss:0.7191: 100%|██████████| 1429/1429 [00:08<00:00, 173.86it/s]\n",
            "loss:0.7170: 100%|██████████| 1429/1429 [00:09<00:00, 156.39it/s]\n",
            "loss:0.7150: 100%|██████████| 1429/1429 [00:09<00:00, 154.01it/s]\n",
            "loss:0.7131: 100%|██████████| 1429/1429 [00:08<00:00, 160.18it/s]\n",
            "loss:0.7111: 100%|██████████| 1429/1429 [00:09<00:00, 157.40it/s]\n",
            "loss:0.7092: 100%|██████████| 1429/1429 [00:09<00:00, 156.29it/s]\n",
            "loss:0.7074: 100%|██████████| 1429/1429 [00:09<00:00, 157.23it/s]\n",
            "loss:0.7056: 100%|██████████| 1429/1429 [00:08<00:00, 159.68it/s]\n",
            "loss:0.7038: 100%|██████████| 1429/1429 [00:08<00:00, 159.67it/s]\n",
            "loss:0.7020: 100%|██████████| 1429/1429 [00:08<00:00, 159.23it/s]\n",
            "loss:0.7003: 100%|██████████| 1429/1429 [00:08<00:00, 160.69it/s]\n",
            "loss:0.6986: 100%|██████████| 1429/1429 [00:08<00:00, 162.19it/s]\n",
            "loss:0.6969: 100%|██████████| 1429/1429 [00:09<00:00, 156.19it/s]\n",
            "loss:0.6953: 100%|██████████| 1429/1429 [00:08<00:00, 159.05it/s]\n",
            "loss:0.6937: 100%|██████████| 1429/1429 [00:09<00:00, 158.29it/s]\n",
            "loss:0.6921: 100%|██████████| 1429/1429 [00:09<00:00, 157.89it/s]\n",
            "loss:0.6906: 100%|██████████| 1429/1429 [00:09<00:00, 157.13it/s]\n",
            "loss:0.6890: 100%|██████████| 1429/1429 [00:08<00:00, 162.22it/s]\n",
            "loss:0.6875: 100%|██████████| 1429/1429 [00:08<00:00, 159.35it/s]\n",
            "loss:0.6861: 100%|██████████| 1429/1429 [00:08<00:00, 160.09it/s]\n",
            "loss:0.6846: 100%|██████████| 1429/1429 [00:08<00:00, 159.78it/s]\n",
            "loss:0.6832: 100%|██████████| 1429/1429 [00:08<00:00, 161.93it/s]\n",
            "loss:0.6818: 100%|██████████| 1429/1429 [00:09<00:00, 157.50it/s]\n",
            "loss:0.6804: 100%|██████████| 1429/1429 [00:08<00:00, 160.79it/s]\n",
            "loss:0.6790: 100%|██████████| 1429/1429 [00:09<00:00, 157.29it/s]\n",
            "loss:0.6777: 100%|██████████| 1429/1429 [00:08<00:00, 159.50it/s]\n",
            "loss:0.6764: 100%|██████████| 1429/1429 [00:09<00:00, 156.62it/s]\n"
          ],
          "name": "stderr"
        }
      ]
    },
    {
      "cell_type": "markdown",
      "metadata": {
        "colab_type": "text",
        "id": "_IZmHOvirnFn"
      },
      "source": [
        "\n",
        "___\n",
        "\n",
        "### Part 3\n",
        "Your notebook should extend the boilerplate code by adding a visualization of test/training\n",
        "performance over time. Use matplotlib.pyplot\n",
        "\n",
        "**TODO:**\n",
        "* Add a visualization of test/train performance (i.e. loss) over time.\n",
        "\n",
        "**DONE:**\n"
      ]
    },
    {
      "cell_type": "code",
      "metadata": {
        "colab_type": "code",
        "id": "YqYrbI5-WHb3",
        "pycharm": {
          "is_executing": false
        },
        "colab": {
          "base_uri": "https://localhost:8080/",
          "height": 329
        },
        "outputId": "81b357e8-a93c-401e-af04-7542de7c9bd8"
      },
      "source": [
        "# Write your code to create a plot of your loss over time\n",
        "plt.plot(train_losses, label='Train')\n",
        "plt.plot(validation_losses, label='Validation')\n",
        "plt.title('Loss over time')\n",
        "plt.ylabel('Loss')\n",
        "plt.xlabel('Iterations')\n",
        "plt.legend()\n",
        "plt.plot()"
      ],
      "execution_count": 22,
      "outputs": [
        {
          "output_type": "execute_result",
          "data": {
            "text/plain": [
              "[]"
            ]
          },
          "metadata": {
            "tags": []
          },
          "execution_count": 22
        },
        {
          "output_type": "stream",
          "text": [
            "/usr/local/lib/python3.6/dist-packages/IPython/core/pylabtools.py:125: UserWarning: Creating legend with loc=\"best\" can be slow with large amounts of data.\n",
            "  fig.canvas.print_figure(bytes_io, **kw)\n"
          ],
          "name": "stderr"
        },
        {
          "output_type": "display_data",
          "data": {
            "image/png": "[encoded data removed]",
            "text/plain": [
              "<Figure size 432x288 with 1 Axes>"
            ]
          },
          "metadata": {
            "tags": []
          }
        }
      ]
    },
    {
      "cell_type": "markdown",
      "metadata": {
        "colab_type": "text",
        "id": "0wW4QNYG4LE2"
      },
      "source": [
        "\n",
        "___\n",
        "\n",
        "### Part 4\n",
        "Complete the following microtasks to learn some important Pytorch skills. \n",
        "\n",
        "**TODO:**\n",
        "\n",
        "**DONE:**\n",
        "* Complete microtasks"
      ]
    },
    {
      "cell_type": "code",
      "metadata": {
        "colab_type": "code",
        "id": "A9aHouhQ6cou",
        "outputId": "5f0e0b2e-d406-4175-df19-3b6ea9fb6361",
        "colab": {
          "base_uri": "https://localhost:8080/",
          "height": 118
        }
      },
      "source": [
        "# Tensors are the the lifeblood of Pytorch. \n",
        "# Construct a 5x3 tensor, 'a', of zeros and of dtype long\n",
        "a = torch.zeros((5,3),dtype=torch.int)\n",
        "print(a)\n",
        "print(a.size())\n",
        "assert a.size() == torch.Size([5, 3])\n",
        "assert type(a[0][0].item()) is int"
      ],
      "execution_count": 43,
      "outputs": [
        {
          "output_type": "stream",
          "text": [
            "tensor([[0, 0, 0],\n",
            "        [0, 0, 0],\n",
            "        [0, 0, 0],\n",
            "        [0, 0, 0],\n",
            "        [0, 0, 0]], dtype=torch.int32)\n",
            "torch.Size([5, 3])\n"
          ],
          "name": "stdout"
        }
      ]
    },
    {
      "cell_type": "code",
      "metadata": {
        "colab_type": "code",
        "id": "6rfOY4HqYDTP",
        "colab": {
          "base_uri": "https://localhost:8080/",
          "height": 34
        },
        "outputId": "bb47c02c-e648-4a38-b51a-7eb92816d225"
      },
      "source": [
        "# Many of your bugs will come from incorrect tensor dimensions. \n",
        "# Pytorch has several built-in functions to give you the control you need. \n",
        "# Using only the .unsqueeze() function, turn 'a' into a 5x1x3 tensor. Hint: use the dim= argument\n",
        "a = a.unsqueeze(dim=1)\n",
        "print(a.shape)\n",
        "assert a.shape == torch.Size([5, 1, 3])"
      ],
      "execution_count": 29,
      "outputs": [
        {
          "output_type": "stream",
          "text": [
            "torch.Size([5, 1, 3])\n"
          ],
          "name": "stdout"
        }
      ]
    },
    {
      "cell_type": "code",
      "metadata": {
        "colab_type": "code",
        "id": "zY1SJ95Ekokk",
        "colab": {
          "base_uri": "https://localhost:8080/",
          "height": 34
        },
        "outputId": "17cdee06-6e9b-42cf-d967-75fa3d5d282d"
      },
      "source": [
        "# Each dimension means something different. \n",
        "# You can change the order of your dimensions without losing information. \n",
        "# Reshape 'a' into a 5x3x1 tensor, using the .view() function\n",
        "a = a.view((5,3,1))\n",
        "print(a.shape)\n",
        "assert a.shape == torch.Size([5, 3, 1])"
      ],
      "execution_count": 30,
      "outputs": [
        {
          "output_type": "stream",
          "text": [
            "torch.Size([5, 3, 1])\n"
          ],
          "name": "stdout"
        }
      ]
    },
    {
      "cell_type": "code",
      "metadata": {
        "colab_type": "code",
        "id": "_0Q_1vDtmaKW",
        "colab": {
          "base_uri": "https://localhost:8080/",
          "height": 34
        },
        "outputId": "a38c8abe-a676-4608-d340-235e76f01ebc"
      },
      "source": [
        "# Dimensions of size 1 can sometimes be necessary for shape matching.\n",
        "# However, they can be removed without losing information. \n",
        "# Squeeze 'a' to remove dimensions of 1\n",
        "a = a.squeeze(dim=2)\n",
        "print(a.shape)\n",
        "assert a.size() == torch.Size([5, 3])"
      ],
      "execution_count": 31,
      "outputs": [
        {
          "output_type": "stream",
          "text": [
            "torch.Size([5, 3])\n"
          ],
          "name": "stdout"
        }
      ]
    },
    {
      "cell_type": "code",
      "metadata": {
        "colab_type": "code",
        "id": "5miM1dYxnmSY",
        "colab": {
          "base_uri": "https://localhost:8080/",
          "height": 34
        },
        "outputId": "59edd3ac-7834-4b26-d44f-255c50b048cf"
      },
      "source": [
        "# You can turn any tensor into a tensor of a single dimension. \n",
        "# Flatten 'a' to a single dimension\n",
        "a = a.flatten()\n",
        "print(a.size())\n",
        "assert  a.size() == torch.Size([15]) "
      ],
      "execution_count": 32,
      "outputs": [
        {
          "output_type": "stream",
          "text": [
            "torch.Size([15])\n"
          ],
          "name": "stdout"
        }
      ]
    },
    {
      "cell_type": "code",
      "metadata": {
        "colab_type": "code",
        "id": "oxX1Ybcc7gDW",
        "colab": {
          "base_uri": "https://localhost:8080/",
          "height": 34
        },
        "outputId": "56293562-590c-4d9e-f772-629e1def3565"
      },
      "source": [
        "# It's easy to integrate other common python data structures. \n",
        "# Initialize a tensor, 'b', from a list\n",
        "my_list = [1,2,3,4,5]\n",
        "b = torch.tensor(my_list)\n",
        "print(b)\n",
        "assert b.size() == torch.Size([5])"
      ],
      "execution_count": 33,
      "outputs": [
        {
          "output_type": "stream",
          "text": [
            "tensor([1, 2, 3, 4, 5])\n"
          ],
          "name": "stdout"
        }
      ]
    },
    {
      "cell_type": "code",
      "metadata": {
        "colab_type": "code",
        "id": "4XpqRqfG9DTr",
        "colab": {
          "base_uri": "https://localhost:8080/",
          "height": 50
        },
        "outputId": "c60d4aca-5cc5-4382-9d6b-9ef87501379e"
      },
      "source": [
        "# GPUs will allow tensor operations to run much faster. \n",
        "# Assign 'a' and 'b' to run on GPU\n",
        "a, b = a.cuda(), b.cuda()\n",
        "print(a, b)\n",
        "assert a.is_cuda and b.is_cuda"
      ],
      "execution_count": 34,
      "outputs": [
        {
          "output_type": "stream",
          "text": [
            "tensor([0, 0, 0, 0, 0, 0, 0, 0, 0, 0, 0, 0, 0, 0, 0], device='cuda:0',\n",
            "       dtype=torch.int32) tensor([1, 2, 3, 4, 5], device='cuda:0')\n"
          ],
          "name": "stdout"
        }
      ]
    },
    {
      "cell_type": "code",
      "metadata": {
        "colab_type": "code",
        "id": "FPD6NUDf7915",
        "colab": {
          "base_uri": "https://localhost:8080/",
          "height": 34
        },
        "outputId": "b998bde0-22bc-49c5-8f4f-70595674dd70"
      },
      "source": [
        "# You might not always have access to a GPU\n",
        "# Assign 'a' and 'b' to run on CPU\n",
        "a, b = a.cpu(), b.cpu()\n",
        "print(a, b)\n",
        "assert not a.is_cuda and not b.is_cuda"
      ],
      "execution_count": 35,
      "outputs": [
        {
          "output_type": "stream",
          "text": [
            "tensor([0, 0, 0, 0, 0, 0, 0, 0, 0, 0, 0, 0, 0, 0, 0], dtype=torch.int32) tensor([1, 2, 3, 4, 5])\n"
          ],
          "name": "stdout"
        }
      ]
    },
    {
      "cell_type": "code",
      "metadata": {
        "colab_type": "code",
        "id": "1GMvFc2c9P_i",
        "colab": {
          "base_uri": "https://localhost:8080/",
          "height": 34
        },
        "outputId": "dbe81d09-5d4f-43df-f1de-123cffec3b05"
      },
      "source": [
        "# You will often want to convert tensors to numpy arrays to interact with other python libraries\n",
        "# Convert 'a' to a numpy array 'c'\n",
        "c = np.array(a)\n",
        "print(type(c))\n",
        "assert type(c) == np.ndarray"
      ],
      "execution_count": 36,
      "outputs": [
        {
          "output_type": "stream",
          "text": [
            "<class 'numpy.ndarray'>\n"
          ],
          "name": "stdout"
        }
      ]
    },
    {
      "cell_type": "code",
      "metadata": {
        "colab_type": "code",
        "id": "EVFr_ZNgBMHL",
        "colab": {
          "base_uri": "https://localhost:8080/",
          "height": 34
        },
        "outputId": "8d3cd880-5809-4c18-bcc6-51fa78e8f251"
      },
      "source": [
        "# To get your data back into Pytorch\n",
        "# Convert 'c' to tensor 'd'\n",
        "d = torch.tensor(c)\n",
        "print(d.type())\n",
        "assert torch.is_tensor(d)"
      ],
      "execution_count": 37,
      "outputs": [
        {
          "output_type": "stream",
          "text": [
            "torch.IntTensor\n"
          ],
          "name": "stdout"
        }
      ]
    }
  ]
}